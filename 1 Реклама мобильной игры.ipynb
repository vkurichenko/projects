{
 "cells": [
  {
   "cell_type": "markdown",
   "id": "fae8495d-f005-476e-a490-f65491f0f43f",
   "metadata": {},
   "source": [
    "# Тестовое задание"
   ]
  },
  {
   "cell_type": "markdown",
   "id": "51da76da-d5b6-4a61-b4b8-ea9bf22c0759",
   "metadata": {},
   "source": [
    "## Введение"
   ]
  },
  {
   "cell_type": "markdown",
   "id": "72fd44dd-7cb8-44bf-8607-e59503620ea2",
   "metadata": {},
   "source": [
    "### Общая информация"
   ]
  },
  {
   "cell_type": "markdown",
   "id": "cd6abec3-7796-4003-bdc9-30f417ac416a",
   "metadata": {},
   "source": [
    "Мобильная игра зарабатывает на показе рекламы. Есть несколько форматов:\n",
    "- int – полноэкранная реклама; \n",
    "- banner – горизонтальный баннер, висит внизу экрана пока юзер играет; \n",
    "- rv – видео, которое юзер смотрит по желанию и за просмотр получает монетки или др. ресурсы. \n",
    "\n",
    "Информация о каждом показе отправляется в аналитику и содержит доход от показа, формат показанной рекламы, рекламную сеть от которой был показ и др.\n",
    "\n",
    "eCPM – доход за 1000 показов рекламы."
   ]
  },
  {
   "cell_type": "markdown",
   "id": "41180c3f-d10a-484e-ae0a-53399d6b28f5",
   "metadata": {},
   "source": [
    "### Бизнес задача"
   ]
  },
  {
   "cell_type": "markdown",
   "id": "e96e52eb-931f-4d69-b195-89a994db0ae4",
   "metadata": {},
   "source": [
    "Провести исследование показов рекламы с целью понять на сколько отличается eCPM в зависимости от географии (города) юзера, версии ОС и других параметров."
   ]
  },
  {
   "cell_type": "markdown",
   "id": "62f0604a-2df9-41b6-81ed-9a5859bc99d4",
   "metadata": {},
   "source": [
    "### Конкретные задачи"
   ]
  },
  {
   "cell_type": "markdown",
   "id": "00ec1df3-5151-4f80-bae2-851d70d6961b",
   "metadata": {},
   "source": [
    "1. Для каждого формата рекламы:\n",
    "    - построить распределение средних eCPM-ов юзеров.\n",
    "    - построить распределение eCPM-ов по городам, версиям ОС.\n",
    "    - построить распределение доходов по городам, версиям ОС.\n",
    "2. Учесть статистическую значимость (отобразить, отфильтровать незначимое или хотя бы прокомментировать). Объяснить решение.\n",
    "3. Описать наблюдения и вывод по исследованию."
   ]
  },
  {
   "cell_type": "markdown",
   "id": "b2293e5c-753d-4906-b606-79552bbfe9c2",
   "metadata": {},
   "source": [
    "### Дополнительные задачи"
   ]
  },
  {
   "cell_type": "markdown",
   "id": "e41ef365-6222-4324-84be-d1981b7e77de",
   "metadata": {},
   "source": [
    "Исследовать:\n",
    "- Какой процент доходов содержит информацию о городе юзера.\n",
    "- Зависит ли eCPM от времени дня."
   ]
  },
  {
   "cell_type": "markdown",
   "id": "1ac15a65-0b6e-44b7-ad27-971316d9d104",
   "metadata": {},
   "source": [
    "## Первичный анализ"
   ]
  },
  {
   "cell_type": "markdown",
   "id": "cf5ea5e8-9261-4995-9d4c-8aada5af7dfe",
   "metadata": {},
   "source": [
    "Импортируем необходимые библиотеки."
   ]
  },
  {
   "cell_type": "code",
   "execution_count": 2,
   "id": "74641299-e513-448b-9a52-de2b93118a8f",
   "metadata": {},
   "outputs": [],
   "source": [
    "import pandas as pd\n",
    "\n",
    "import seaborn as sns\n",
    "import matplotlib.pyplot as plt\n",
    "\n",
    "import json"
   ]
  },
  {
   "cell_type": "markdown",
   "id": "fa92080b-cc19-496a-9267-4c1d7ea3c737",
   "metadata": {},
   "source": [
    "### Выгрузка данных"
   ]
  },
  {
   "cell_type": "markdown",
   "id": "39170c82-57a7-45ff-bc62-f4d0bc77cc5d",
   "metadata": {},
   "source": [
    "Сохраним данные и посмотрим на первые 5 строк."
   ]
  },
  {
   "cell_type": "code",
   "execution_count": 3,
   "id": "1dc678ff-a3e7-4636-a92b-e3e8049f150b",
   "metadata": {},
   "outputs": [
    {
     "data": {
      "text/html": [
       "<div>\n",
       "<style scoped>\n",
       "    .dataframe tbody tr th:only-of-type {\n",
       "        vertical-align: middle;\n",
       "    }\n",
       "\n",
       "    .dataframe tbody tr th {\n",
       "        vertical-align: top;\n",
       "    }\n",
       "\n",
       "    .dataframe thead th {\n",
       "        text-align: right;\n",
       "    }\n",
       "</style>\n",
       "<table border=\"1\" class=\"dataframe\">\n",
       "  <thead>\n",
       "    <tr style=\"text-align: right;\">\n",
       "      <th></th>\n",
       "      <th>profile_id</th>\n",
       "      <th>os_version</th>\n",
       "      <th>device_manufacturer</th>\n",
       "      <th>device_model</th>\n",
       "      <th>device_type</th>\n",
       "      <th>device_locale</th>\n",
       "      <th>event_name</th>\n",
       "      <th>event_json</th>\n",
       "      <th>event_datetime</th>\n",
       "      <th>event_timestamp</th>\n",
       "      <th>event_receive_datetime</th>\n",
       "      <th>event_receive_timestamp</th>\n",
       "      <th>connection_type</th>\n",
       "      <th>operator_name</th>\n",
       "      <th>country_iso_code</th>\n",
       "      <th>city</th>\n",
       "    </tr>\n",
       "  </thead>\n",
       "  <tbody>\n",
       "    <tr>\n",
       "      <th>0</th>\n",
       "      <td>JLjpGzDHBQm</td>\n",
       "      <td>11</td>\n",
       "      <td>Samsung</td>\n",
       "      <td>Galaxy Tab S6</td>\n",
       "      <td>tablet</td>\n",
       "      <td>en_US</td>\n",
       "      <td>c_ad_revenue</td>\n",
       "      <td>{\"ad_type\":\"banner\",\"placement\":\"\",\"view_index...</td>\n",
       "      <td>2022-02-04 20:02:28</td>\n",
       "      <td>1643994148</td>\n",
       "      <td>2022-02-06 17:58:19</td>\n",
       "      <td>1644159499</td>\n",
       "      <td>wifi</td>\n",
       "      <td>NaN</td>\n",
       "      <td>US</td>\n",
       "      <td>Norwalk</td>\n",
       "    </tr>\n",
       "    <tr>\n",
       "      <th>1</th>\n",
       "      <td>JLjpGzDHBQm</td>\n",
       "      <td>11</td>\n",
       "      <td>Samsung</td>\n",
       "      <td>Galaxy Tab S6</td>\n",
       "      <td>tablet</td>\n",
       "      <td>en_US</td>\n",
       "      <td>c_ad_revenue</td>\n",
       "      <td>{\"ad_type\":\"banner\",\"placement\":\"\",\"view_index...</td>\n",
       "      <td>2022-02-04 20:02:45</td>\n",
       "      <td>1643994165</td>\n",
       "      <td>2022-02-06 17:58:19</td>\n",
       "      <td>1644159499</td>\n",
       "      <td>wifi</td>\n",
       "      <td>NaN</td>\n",
       "      <td>US</td>\n",
       "      <td>Norwalk</td>\n",
       "    </tr>\n",
       "    <tr>\n",
       "      <th>2</th>\n",
       "      <td>JLkVacrzHY6</td>\n",
       "      <td>11</td>\n",
       "      <td>Google</td>\n",
       "      <td>Pixel 2</td>\n",
       "      <td>phone</td>\n",
       "      <td>en_US</td>\n",
       "      <td>c_ad_revenue</td>\n",
       "      <td>{\"ad_type\":\"banner\",\"placement\":\"\",\"view_index...</td>\n",
       "      <td>2022-02-05 17:53:05</td>\n",
       "      <td>1644072785</td>\n",
       "      <td>2022-02-06 16:59:29</td>\n",
       "      <td>1644155969</td>\n",
       "      <td>wifi</td>\n",
       "      <td>Verizon</td>\n",
       "      <td>US</td>\n",
       "      <td>Charlotte</td>\n",
       "    </tr>\n",
       "    <tr>\n",
       "      <th>3</th>\n",
       "      <td>JMC6wG3cX0f</td>\n",
       "      <td>10</td>\n",
       "      <td>Samsung</td>\n",
       "      <td>Galaxy S9</td>\n",
       "      <td>phone</td>\n",
       "      <td>en_US</td>\n",
       "      <td>c_ad_revenue</td>\n",
       "      <td>{\"ad_type\":\"int\",\"placement\":\"next_level\",\"vie...</td>\n",
       "      <td>2022-02-06 17:09:01</td>\n",
       "      <td>1644156541</td>\n",
       "      <td>2022-02-06 17:09:24</td>\n",
       "      <td>1644156564</td>\n",
       "      <td>wifi</td>\n",
       "      <td>T-Mobile</td>\n",
       "      <td>US</td>\n",
       "      <td>Cocoa</td>\n",
       "    </tr>\n",
       "    <tr>\n",
       "      <th>4</th>\n",
       "      <td>JLzWWTJfi1b</td>\n",
       "      <td>10</td>\n",
       "      <td>Samsung</td>\n",
       "      <td>Galaxy S9</td>\n",
       "      <td>phone</td>\n",
       "      <td>en_US</td>\n",
       "      <td>c_ad_revenue</td>\n",
       "      <td>{\"ad_type\":\"banner\",\"placement\":\"\",\"view_index...</td>\n",
       "      <td>2022-02-06 17:15:38</td>\n",
       "      <td>1644156938</td>\n",
       "      <td>2022-02-06 17:16:16</td>\n",
       "      <td>1644156976</td>\n",
       "      <td>cell</td>\n",
       "      <td>Verizon</td>\n",
       "      <td>US</td>\n",
       "      <td>NaN</td>\n",
       "    </tr>\n",
       "  </tbody>\n",
       "</table>\n",
       "</div>"
      ],
      "text/plain": [
       "    profile_id os_version device_manufacturer   device_model device_type  \\\n",
       "0  JLjpGzDHBQm         11             Samsung  Galaxy Tab S6      tablet   \n",
       "1  JLjpGzDHBQm         11             Samsung  Galaxy Tab S6      tablet   \n",
       "2  JLkVacrzHY6         11              Google        Pixel 2       phone   \n",
       "3  JMC6wG3cX0f         10             Samsung      Galaxy S9       phone   \n",
       "4  JLzWWTJfi1b         10             Samsung      Galaxy S9       phone   \n",
       "\n",
       "  device_locale    event_name  \\\n",
       "0         en_US  c_ad_revenue   \n",
       "1         en_US  c_ad_revenue   \n",
       "2         en_US  c_ad_revenue   \n",
       "3         en_US  c_ad_revenue   \n",
       "4         en_US  c_ad_revenue   \n",
       "\n",
       "                                          event_json       event_datetime  \\\n",
       "0  {\"ad_type\":\"banner\",\"placement\":\"\",\"view_index...  2022-02-04 20:02:28   \n",
       "1  {\"ad_type\":\"banner\",\"placement\":\"\",\"view_index...  2022-02-04 20:02:45   \n",
       "2  {\"ad_type\":\"banner\",\"placement\":\"\",\"view_index...  2022-02-05 17:53:05   \n",
       "3  {\"ad_type\":\"int\",\"placement\":\"next_level\",\"vie...  2022-02-06 17:09:01   \n",
       "4  {\"ad_type\":\"banner\",\"placement\":\"\",\"view_index...  2022-02-06 17:15:38   \n",
       "\n",
       "   event_timestamp event_receive_datetime  event_receive_timestamp  \\\n",
       "0       1643994148    2022-02-06 17:58:19               1644159499   \n",
       "1       1643994165    2022-02-06 17:58:19               1644159499   \n",
       "2       1644072785    2022-02-06 16:59:29               1644155969   \n",
       "3       1644156541    2022-02-06 17:09:24               1644156564   \n",
       "4       1644156938    2022-02-06 17:16:16               1644156976   \n",
       "\n",
       "  connection_type operator_name country_iso_code       city  \n",
       "0            wifi           NaN               US    Norwalk  \n",
       "1            wifi           NaN               US    Norwalk  \n",
       "2            wifi       Verizon               US  Charlotte  \n",
       "3            wifi      T-Mobile               US      Cocoa  \n",
       "4            cell      Verizon                US        NaN  "
      ]
     },
     "execution_count": 3,
     "metadata": {},
     "output_type": "execute_result"
    }
   ],
   "source": [
    "win_path = \"C:/Users/Влад/Downloads/us events ad_revenue filtered 03.02-07.02.csv\"\n",
    "mac_path = '/Users/vkurichenko/Downloads/us events ad_revenue filtered 03.02-07.02.csv'\n",
    "\n",
    "raw_data = pd.read_csv(win_path)\n",
    "\n",
    "raw_data.head()"
   ]
  },
  {
   "cell_type": "markdown",
   "id": "0d989d3f-b449-46a4-9717-c2ed8fb0abdd",
   "metadata": {},
   "source": [
    "Согласно информации от заказчика, столбцы означают следующее:\n",
    "- profile_id – id юзера\n",
    "- event_json содержит данные о событии показа рекламы:\n",
    "    - ad_type – формат рекламы (int, banner или rv)\n",
    "    - placement – когда/где был показ рекламы в игре\n",
    "    - view_index – номер показа конкретного формата рекламы для юзера (не поддерживается для баннеров)\n",
    "    - revenue – доход от конкретного показа рекламы (eCPM = revenue * 1000)\n",
    "    - ads_ltv – накапливающийся доход от рекламы, равен сумме всех revenue юзера\n",
    "    - network_name – рекламная сеть, от которой был показ\n",
    "- os_version – версия ПО устройства\n",
    "- device_manufacturer – производитель устройства\n",
    "- device_model – модель устройства\n",
    "- device_type – тип устройства\n",
    "- device_locale – язык устройства\n",
    "- event_name – название события\n",
    "- event_datetime – время события\n",
    "- event_datetime – временной штамп события\n",
    "- event_receive_datetime – время выгрузки события\n",
    "- event_receive_timestamp – временной штамп выгрузки события\n",
    "- connection_type – тип соединения\n",
    "- operator_name – название оператора\n",
    "- country_iso_code – код страны\n",
    "- city – город"
   ]
  },
  {
   "cell_type": "markdown",
   "id": "91dbbf7a-aa2c-44e6-b0e6-5d0a2efb028d",
   "metadata": {},
   "source": [
    "Посмотрим на размерность данных."
   ]
  },
  {
   "cell_type": "code",
   "execution_count": 4,
   "id": "74ed5056-349c-4625-9bdc-cdf0cb2aeb74",
   "metadata": {},
   "outputs": [
    {
     "data": {
      "text/plain": [
       "(860079, 16)"
      ]
     },
     "execution_count": 4,
     "metadata": {},
     "output_type": "execute_result"
    }
   ],
   "source": [
    "raw_data.shape"
   ]
  },
  {
   "cell_type": "markdown",
   "id": "badebcda-14cf-441f-a056-7b53fbc9303b",
   "metadata": {},
   "source": [
    "Итак, наш датасет содержит 860 тысяч строк и 16 колонок.\n",
    "\n",
    "Посчитаем уникальное количество юзеров."
   ]
  },
  {
   "cell_type": "code",
   "execution_count": 5,
   "id": "8d86f2d2-661c-495f-8265-00afee746766",
   "metadata": {},
   "outputs": [
    {
     "data": {
      "text/plain": [
       "4226"
      ]
     },
     "execution_count": 5,
     "metadata": {},
     "output_type": "execute_result"
    }
   ],
   "source": [
    "raw_data['profile_id'].nunique()"
   ]
  },
  {
   "cell_type": "markdown",
   "id": "d0e57fdd-678e-4195-81a7-99fbb9282249",
   "metadata": {},
   "source": [
    "В датасете присутствуют данные 4226 юзеров.\n",
    "\n",
    "Одна из колонок, содержащая данные о событии показа рекламы имеет тип json. Разделим данные из нее на отдельные колонки."
   ]
  },
  {
   "cell_type": "code",
   "execution_count": 6,
   "id": "ee1e2f31-e555-4824-977d-3c22ad51aa3d",
   "metadata": {},
   "outputs": [],
   "source": [
    "data_json = pd.DataFrame(raw_data['event_json'].apply(json.loads).tolist())\n",
    "data = raw_data.drop('event_json', axis=1).merge(data_json, left_index=True, right_index=True)"
   ]
  },
  {
   "cell_type": "markdown",
   "id": "dcfe3ad4-7951-4e8d-9fb9-e7fa3115f5c7",
   "metadata": {},
   "source": [
    "Посмотрим на размерность нового датасета."
   ]
  },
  {
   "cell_type": "code",
   "execution_count": 7,
   "id": "73ee3986-f3d8-4b2d-af4c-829eb8505ed0",
   "metadata": {},
   "outputs": [
    {
     "data": {
      "text/plain": [
       "(860079, 32)"
      ]
     },
     "execution_count": 7,
     "metadata": {},
     "output_type": "execute_result"
    }
   ],
   "source": [
    "data.shape"
   ]
  },
  {
   "cell_type": "markdown",
   "id": "5d199267-f30d-490b-bd8a-a1dd6b114632",
   "metadata": {},
   "source": [
    "Соответственно, мы удалили исходную колонку и добавили 17 новых колонок в датасет. Теперь можно продолжить анализ."
   ]
  },
  {
   "cell_type": "markdown",
   "id": "b106a8b4-1a45-4b5c-9069-e6e99f61be17",
   "metadata": {},
   "source": [
    "### Пропущенные значения"
   ]
  },
  {
   "cell_type": "markdown",
   "id": "b7d4520f-b939-4811-82e3-6c604c79009a",
   "metadata": {},
   "source": [
    "Посчитаем пропущенные значения в данных."
   ]
  },
  {
   "cell_type": "code",
   "execution_count": 8,
   "id": "1891f674-2290-47fb-9f0b-39fa711487c6",
   "metadata": {},
   "outputs": [
    {
     "data": {
      "text/plain": [
       "profile_id                     14\n",
       "os_version                      0\n",
       "device_manufacturer             0\n",
       "device_model                    0\n",
       "device_type                     0\n",
       "device_locale                   0\n",
       "event_name                      0\n",
       "event_datetime                  0\n",
       "event_timestamp                 0\n",
       "event_receive_datetime          0\n",
       "event_receive_timestamp         0\n",
       "connection_type                 0\n",
       "operator_name               18879\n",
       "country_iso_code                0\n",
       "city                       323708\n",
       "ad_type                         0\n",
       "placement                       0\n",
       "view_index                      0\n",
       "session_view_index              0\n",
       "cur_ticks                       0\n",
       "session_length                  0\n",
       "revenue                         0\n",
       "ads_ltv                         0\n",
       "ecpm_sma                        0\n",
       "normalized_ecpm_sma             0\n",
       "value                           0\n",
       "currency                        0\n",
       "ad_country_code                 0\n",
       "network_name                    0\n",
       "ad_unit_id                      0\n",
       "ad_network_placement            0\n",
       "creativeId                      0\n",
       "dtype: int64"
      ]
     },
     "execution_count": 8,
     "metadata": {},
     "output_type": "execute_result"
    }
   ],
   "source": [
    "data.isna().sum()"
   ]
  },
  {
   "cell_type": "markdown",
   "id": "c0f40bae-0946-4401-84c9-c0f9fc2262b4",
   "metadata": {},
   "source": [
    "Видно, что есть пропуски в профиле пользователя. Однако, доля таких пропусков мала.\n",
    "\n",
    "Пропусков в колонке с именем оператора уже больше, но он никак не фигурирует в нашем анализе, поэтому нам тоже они не особо важны.\n",
    "\n",
    "Больше всего пропусков в городе пользователя. Несколько задач заказчика связаны непосредственно с анализом активности пользователей по городам. Избавляться от этих строк смысла нет, предлагается просто заменить пропущенные значения на 'Unknown'."
   ]
  },
  {
   "cell_type": "code",
   "execution_count": 9,
   "id": "d0d58ccf-dd94-497a-8c8e-8d5f93b95709",
   "metadata": {},
   "outputs": [],
   "source": [
    "data.fillna('Unknown', inplace=True)"
   ]
  },
  {
   "cell_type": "markdown",
   "id": "cbea0588-80c5-4065-bc57-d15a010c2c49",
   "metadata": {},
   "source": [
    "## Ответы на вопросы заказчика"
   ]
  },
  {
   "cell_type": "markdown",
   "id": "bffd4e71-166f-47f1-b715-94701464672b",
   "metadata": {},
   "source": [
    "### Распределение средних eCPM-ов юзеров"
   ]
  },
  {
   "cell_type": "markdown",
   "id": "2cf8d771-86c3-40de-80fe-bbdd15917aac",
   "metadata": {},
   "source": [
    "Посмотрим на колонки датасета чтобы понять, какие из них отвечают за значение eCPM."
   ]
  },
  {
   "cell_type": "code",
   "execution_count": 10,
   "id": "85545775-718f-4cdf-9f35-087b750410ba",
   "metadata": {},
   "outputs": [
    {
     "data": {
      "text/plain": [
       "Index(['profile_id', 'os_version', 'device_manufacturer', 'device_model',\n",
       "       'device_type', 'device_locale', 'event_name', 'event_datetime',\n",
       "       'event_timestamp', 'event_receive_datetime', 'event_receive_timestamp',\n",
       "       'connection_type', 'operator_name', 'country_iso_code', 'city',\n",
       "       'ad_type', 'placement', 'view_index', 'session_view_index', 'cur_ticks',\n",
       "       'session_length', 'revenue', 'ads_ltv', 'ecpm_sma',\n",
       "       'normalized_ecpm_sma', 'value', 'currency', 'ad_country_code',\n",
       "       'network_name', 'ad_unit_id', 'ad_network_placement', 'creativeId'],\n",
       "      dtype='object')"
      ]
     },
     "execution_count": 10,
     "metadata": {},
     "output_type": "execute_result"
    }
   ],
   "source": [
    "data.columns"
   ]
  },
  {
   "cell_type": "markdown",
   "id": "d3650c12-6db0-4d19-b720-6d82619df8ae",
   "metadata": {},
   "source": [
    "В нашем датасете есть две колонки, содержащие ecpm: 'ecpm_sma' и 'normalized_ecpm_sma'.\n",
    "\n",
    "Чтобы понять разницу между ними, опишем эти колонки методом 'describe'."
   ]
  },
  {
   "cell_type": "code",
   "execution_count": 11,
   "id": "f4107349-f891-456c-83d6-fab89e55223c",
   "metadata": {},
   "outputs": [
    {
     "data": {
      "text/html": [
       "<div>\n",
       "<style scoped>\n",
       "    .dataframe tbody tr th:only-of-type {\n",
       "        vertical-align: middle;\n",
       "    }\n",
       "\n",
       "    .dataframe tbody tr th {\n",
       "        vertical-align: top;\n",
       "    }\n",
       "\n",
       "    .dataframe thead th {\n",
       "        text-align: right;\n",
       "    }\n",
       "</style>\n",
       "<table border=\"1\" class=\"dataframe\">\n",
       "  <thead>\n",
       "    <tr style=\"text-align: right;\">\n",
       "      <th></th>\n",
       "      <th>ecpm_sma</th>\n",
       "      <th>normalized_ecpm_sma</th>\n",
       "    </tr>\n",
       "  </thead>\n",
       "  <tbody>\n",
       "    <tr>\n",
       "      <th>count</th>\n",
       "      <td>860079.000000</td>\n",
       "      <td>860079.000000</td>\n",
       "    </tr>\n",
       "    <tr>\n",
       "      <th>mean</th>\n",
       "      <td>3.147110</td>\n",
       "      <td>3.227661</td>\n",
       "    </tr>\n",
       "    <tr>\n",
       "      <th>std</th>\n",
       "      <td>15.973978</td>\n",
       "      <td>16.433888</td>\n",
       "    </tr>\n",
       "    <tr>\n",
       "      <th>min</th>\n",
       "      <td>0.001014</td>\n",
       "      <td>0.001014</td>\n",
       "    </tr>\n",
       "    <tr>\n",
       "      <th>25%</th>\n",
       "      <td>0.139942</td>\n",
       "      <td>0.139942</td>\n",
       "    </tr>\n",
       "    <tr>\n",
       "      <th>50%</th>\n",
       "      <td>0.480991</td>\n",
       "      <td>0.480991</td>\n",
       "    </tr>\n",
       "    <tr>\n",
       "      <th>75%</th>\n",
       "      <td>0.772006</td>\n",
       "      <td>0.772006</td>\n",
       "    </tr>\n",
       "    <tr>\n",
       "      <th>max</th>\n",
       "      <td>908.876160</td>\n",
       "      <td>917.695618</td>\n",
       "    </tr>\n",
       "  </tbody>\n",
       "</table>\n",
       "</div>"
      ],
      "text/plain": [
       "            ecpm_sma  normalized_ecpm_sma\n",
       "count  860079.000000        860079.000000\n",
       "mean        3.147110             3.227661\n",
       "std        15.973978            16.433888\n",
       "min         0.001014             0.001014\n",
       "25%         0.139942             0.139942\n",
       "50%         0.480991             0.480991\n",
       "75%         0.772006             0.772006\n",
       "max       908.876160           917.695618"
      ]
     },
     "execution_count": 11,
     "metadata": {},
     "output_type": "execute_result"
    }
   ],
   "source": [
    "data[['ecpm_sma', 'normalized_ecpm_sma']].describe()"
   ]
  },
  {
   "cell_type": "markdown",
   "id": "2e0dcdfb-d731-4b44-9583-9c35659ddfe9",
   "metadata": {},
   "source": [
    "Видно, что разницы между колонками практически нет, за исключением чуть большего среднего значения, стандратного отклонения и максимального значения, поэтому будем использовать первую колонку 'ecpm_sma'.\n",
    "\n",
    "Посчитаем среднее значение 'ecpm' для юзера."
   ]
  },
  {
   "cell_type": "code",
   "execution_count": 12,
   "id": "11021541-2916-4e69-ab56-95e52ecaaf65",
   "metadata": {},
   "outputs": [],
   "source": [
    "user_ecpm = data.groupby('profile_id').agg({'ecpm_sma':'mean'})"
   ]
  },
  {
   "cell_type": "markdown",
   "id": "8bf35b99-3170-4232-a8ce-315b65186e94",
   "metadata": {},
   "source": [
    "Определим валюту, представленную в датасете чтобы понимать, с чем мы работаем."
   ]
  },
  {
   "cell_type": "code",
   "execution_count": 13,
   "id": "e012361a-59de-45af-9afd-25a8b378ca7a",
   "metadata": {},
   "outputs": [
    {
     "data": {
      "text/plain": [
       "array(['USD'], dtype=object)"
      ]
     },
     "execution_count": 13,
     "metadata": {},
     "output_type": "execute_result"
    }
   ],
   "source": [
    "data['currency'].unique()"
   ]
  },
  {
   "cell_type": "markdown",
   "id": "e62bf1dd-7b80-47c5-9c1a-679fe6f89ec0",
   "metadata": {},
   "source": [
    "Наша валюта - доллар.\n",
    "\n",
    "Построим гистограмму."
   ]
  },
  {
   "cell_type": "code",
   "execution_count": 14,
   "id": "d3684a42-a89b-4aaa-ac18-6fb621de67a4",
   "metadata": {},
   "outputs": [
    {
     "data": {
      "text/plain": [
       "<AxesSubplot:xlabel='ecpm_sma', ylabel='Count'>"
      ]
     },
     "execution_count": 14,
     "metadata": {},
     "output_type": "execute_result"
    },
    {
     "data": {
      "image/png": "[encoded data removed]",
      "text/plain": [
       "<Figure size 720x576 with 1 Axes>"
      ]
     },
     "metadata": {
      "needs_background": "light"
     },
     "output_type": "display_data"
    }
   ],
   "source": [
    "fig, ax = plt.subplots(figsize=(10, 8))\n",
    "sns.histplot(data=user_ecpm, x='ecpm_sma', ax=ax, bins=50)"
   ]
  },
  {
   "cell_type": "markdown",
   "id": "32248e5a-194c-488a-b66f-d41238d46e87",
   "metadata": {},
   "source": [
    "Видно, что в основном заработок с юзера маленький, так как очень много значение сконцентрировано около 0.\n",
    "\n",
    "Опишем данные методом describe."
   ]
  },
  {
   "cell_type": "code",
   "execution_count": 15,
   "id": "6cb7c646-79aa-46e8-b3fc-ed492056da58",
   "metadata": {},
   "outputs": [
    {
     "data": {
      "text/html": [
       "<div>\n",
       "<style scoped>\n",
       "    .dataframe tbody tr th:only-of-type {\n",
       "        vertical-align: middle;\n",
       "    }\n",
       "\n",
       "    .dataframe tbody tr th {\n",
       "        vertical-align: top;\n",
       "    }\n",
       "\n",
       "    .dataframe thead th {\n",
       "        text-align: right;\n",
       "    }\n",
       "</style>\n",
       "<table border=\"1\" class=\"dataframe\">\n",
       "  <thead>\n",
       "    <tr style=\"text-align: right;\">\n",
       "      <th></th>\n",
       "      <th>ecpm_sma</th>\n",
       "    </tr>\n",
       "  </thead>\n",
       "  <tbody>\n",
       "    <tr>\n",
       "      <th>count</th>\n",
       "      <td>4227.000000</td>\n",
       "    </tr>\n",
       "    <tr>\n",
       "      <th>mean</th>\n",
       "      <td>16.310835</td>\n",
       "    </tr>\n",
       "    <tr>\n",
       "      <th>std</th>\n",
       "      <td>33.298842</td>\n",
       "    </tr>\n",
       "    <tr>\n",
       "      <th>min</th>\n",
       "      <td>0.044203</td>\n",
       "    </tr>\n",
       "    <tr>\n",
       "      <th>25%</th>\n",
       "      <td>1.865125</td>\n",
       "    </tr>\n",
       "    <tr>\n",
       "      <th>50%</th>\n",
       "      <td>4.444360</td>\n",
       "    </tr>\n",
       "    <tr>\n",
       "      <th>75%</th>\n",
       "      <td>14.079033</td>\n",
       "    </tr>\n",
       "    <tr>\n",
       "      <th>max</th>\n",
       "      <td>386.488770</td>\n",
       "    </tr>\n",
       "  </tbody>\n",
       "</table>\n",
       "</div>"
      ],
      "text/plain": [
       "          ecpm_sma\n",
       "count  4227.000000\n",
       "mean     16.310835\n",
       "std      33.298842\n",
       "min       0.044203\n",
       "25%       1.865125\n",
       "50%       4.444360\n",
       "75%      14.079033\n",
       "max     386.488770"
      ]
     },
     "execution_count": 15,
     "metadata": {},
     "output_type": "execute_result"
    }
   ],
   "source": [
    "user_ecpm.describe()"
   ]
  },
  {
   "cell_type": "markdown",
   "id": "5bde2e10-4a86-45a9-94f5-bf4fdb8c9e2d",
   "metadata": {},
   "source": [
    "**Вывод:**\n",
    "- Среднее значения дохода с пользователя составляет \\\\$16.3.\n",
    "- При этом медианное значение дохода с юзеров - \\\\$4.4. То есть большое количество юзеров, заработок с которых очень большой (они смотрят много рекламы?)"
   ]
  },
  {
   "cell_type": "markdown",
   "id": "ed44dbe6-7faa-40f6-aed4-c3f23d33e1d8",
   "metadata": {},
   "source": [
    "### Распределение eCPM по городам и операционным системам"
   ]
  },
  {
   "cell_type": "markdown",
   "id": "5976127f-f816-4878-bc81-8d2f8788be34",
   "metadata": {},
   "source": [
    "#### Распределение по ОС"
   ]
  },
  {
   "cell_type": "markdown",
   "id": "f7a37154-35eb-4570-934b-7e29abebc36a",
   "metadata": {},
   "source": [
    "Сначала посмотрим на столбец с операционными системами (ОС)."
   ]
  },
  {
   "cell_type": "code",
   "execution_count": 16,
   "id": "ca66c485-f0ee-47e4-8aa6-f2fc88c24dfd",
   "metadata": {},
   "outputs": [
    {
     "data": {
      "text/html": [
       "<div>\n",
       "<style scoped>\n",
       "    .dataframe tbody tr th:only-of-type {\n",
       "        vertical-align: middle;\n",
       "    }\n",
       "\n",
       "    .dataframe tbody tr th {\n",
       "        vertical-align: top;\n",
       "    }\n",
       "\n",
       "    .dataframe thead th {\n",
       "        text-align: right;\n",
       "    }\n",
       "</style>\n",
       "<table border=\"1\" class=\"dataframe\">\n",
       "  <thead>\n",
       "    <tr style=\"text-align: right;\">\n",
       "      <th></th>\n",
       "      <th>os_version</th>\n",
       "    </tr>\n",
       "  </thead>\n",
       "  <tbody>\n",
       "    <tr>\n",
       "      <th>0</th>\n",
       "      <td>11</td>\n",
       "    </tr>\n",
       "    <tr>\n",
       "      <th>1</th>\n",
       "      <td>11</td>\n",
       "    </tr>\n",
       "    <tr>\n",
       "      <th>2</th>\n",
       "      <td>11</td>\n",
       "    </tr>\n",
       "    <tr>\n",
       "      <th>3</th>\n",
       "      <td>10</td>\n",
       "    </tr>\n",
       "    <tr>\n",
       "      <th>4</th>\n",
       "      <td>10</td>\n",
       "    </tr>\n",
       "  </tbody>\n",
       "</table>\n",
       "</div>"
      ],
      "text/plain": [
       "  os_version\n",
       "0         11\n",
       "1         11\n",
       "2         11\n",
       "3         10\n",
       "4         10"
      ]
     },
     "execution_count": 16,
     "metadata": {},
     "output_type": "execute_result"
    }
   ],
   "source": [
    "data[['os_version']].head()"
   ]
  },
  {
   "cell_type": "markdown",
   "id": "e6bd4c98-acb4-41ac-8233-83c829d24229",
   "metadata": {},
   "source": [
    "В данном случае ОС определяется просто цифрой.\n",
    "\n",
    "Но что если в нашем датасете присутствуют девайсы, работающие как на iOS, так и на Android. В таком случае данные будут недостоверны.\n",
    "\n",
    "Посмотрим на уникальных производителей в датасете."
   ]
  },
  {
   "cell_type": "code",
   "execution_count": 17,
   "id": "1f548c60-3765-4869-8c56-59dc6722bed8",
   "metadata": {},
   "outputs": [
    {
     "data": {
      "text/plain": [
       "array(['Samsung', 'Google', 'TCL', 'LG', 'OnePlus', 'Motorola',\n",
       "       'Teracube', 'Lenovo', 'T-Mobile', 'Verizon Wireless', 'Xiaomi',\n",
       "       'Alcatel', 'Cricket', 'Blu', 'Kyocera', 'Maxwest', 'Nokia', 'FIH',\n",
       "       'Dish', 'Schok', 'deejoy', 'AT&T', 'Zte', 'Redmi', 'Yulong',\n",
       "       'Wiko', 'Huawei', 'Onn (Walmart)', 'AEEZO', 'Asus', 'JOYAR',\n",
       "       'POCO', 'Ulefone', 'Razer'], dtype=object)"
      ]
     },
     "execution_count": 17,
     "metadata": {},
     "output_type": "execute_result"
    }
   ],
   "source": [
    "data['device_manufacturer'].unique()"
   ]
  },
  {
   "cell_type": "markdown",
   "id": "21e4eee3-0a77-47a1-9ff4-8e154c6ce91b",
   "metadata": {},
   "source": [
    "Отлично, в датасете нет устройств от Apple, поэтому можно предположить, что все девайсы работают на Android.\n",
    "\n",
    "Посмотрим на количество уникальных значений ОС."
   ]
  },
  {
   "cell_type": "code",
   "execution_count": 18,
   "id": "68ce3388-dbda-4ba2-b81d-27ecae2e54e1",
   "metadata": {},
   "outputs": [
    {
     "data": {
      "text/plain": [
       "11"
      ]
     },
     "execution_count": 18,
     "metadata": {},
     "output_type": "execute_result"
    }
   ],
   "source": [
    "data['os_version'].nunique()"
   ]
  },
  {
   "cell_type": "markdown",
   "id": "54ef3d21-1182-4c34-8f2e-2fdefb8a578c",
   "metadata": {},
   "source": [
    "Посчитаем, как часто они встречаются, используя кумулятивную сумму долей каждой из ОС."
   ]
  },
  {
   "cell_type": "code",
   "execution_count": 19,
   "id": "532aa44e-05fc-4089-973a-89301933c82e",
   "metadata": {},
   "outputs": [
    {
     "data": {
      "text/plain": [
       "12       0.473895\n",
       "11       0.716978\n",
       "10       0.892394\n",
       "9        0.969900\n",
       "8.1.0    0.980654\n",
       "8.0.0    0.989974\n",
       "7.0      0.994691\n",
       "7.1.2    0.996797\n",
       "7.1.1    0.998357\n",
       "5.0.2    0.999181\n",
       "6.0.1    1.000000\n",
       "Name: os_version, dtype: float64"
      ]
     },
     "execution_count": 19,
     "metadata": {},
     "output_type": "execute_result"
    }
   ],
   "source": [
    "data['os_version'].value_counts(normalize=True).cumsum()"
   ]
  },
  {
   "cell_type": "markdown",
   "id": "b8d9e8f6-f4b4-48d6-baca-d17e16a77643",
   "metadata": {},
   "source": [
    "97% всех девайсов работают на 4 версиях ОС.\n",
    "\n",
    "Сгруппируем датасет по операционным системам и посчитаем среднее значение eCPM."
   ]
  },
  {
   "cell_type": "code",
   "execution_count": 107,
   "id": "57f470d4-e471-4434-98d8-4bc831a62574",
   "metadata": {},
   "outputs": [
    {
     "data": {
      "text/html": [
       "<div>\n",
       "<style scoped>\n",
       "    .dataframe tbody tr th:only-of-type {\n",
       "        vertical-align: middle;\n",
       "    }\n",
       "\n",
       "    .dataframe tbody tr th {\n",
       "        vertical-align: top;\n",
       "    }\n",
       "\n",
       "    .dataframe thead th {\n",
       "        text-align: right;\n",
       "    }\n",
       "</style>\n",
       "<table border=\"1\" class=\"dataframe\">\n",
       "  <thead>\n",
       "    <tr style=\"text-align: right;\">\n",
       "      <th></th>\n",
       "      <th>ecpm_sma</th>\n",
       "    </tr>\n",
       "    <tr>\n",
       "      <th>os_version</th>\n",
       "      <th></th>\n",
       "    </tr>\n",
       "  </thead>\n",
       "  <tbody>\n",
       "    <tr>\n",
       "      <th>12</th>\n",
       "      <td>3.596887</td>\n",
       "    </tr>\n",
       "    <tr>\n",
       "      <th>11</th>\n",
       "      <td>3.230599</td>\n",
       "    </tr>\n",
       "    <tr>\n",
       "      <th>7.0</th>\n",
       "      <td>3.071182</td>\n",
       "    </tr>\n",
       "    <tr>\n",
       "      <th>10</th>\n",
       "      <td>2.489296</td>\n",
       "    </tr>\n",
       "    <tr>\n",
       "      <th>9</th>\n",
       "      <td>2.226091</td>\n",
       "    </tr>\n",
       "    <tr>\n",
       "      <th>8.0.0</th>\n",
       "      <td>1.707117</td>\n",
       "    </tr>\n",
       "    <tr>\n",
       "      <th>7.1.1</th>\n",
       "      <td>1.403852</td>\n",
       "    </tr>\n",
       "    <tr>\n",
       "      <th>8.1.0</th>\n",
       "      <td>1.110026</td>\n",
       "    </tr>\n",
       "    <tr>\n",
       "      <th>6.0.1</th>\n",
       "      <td>1.107547</td>\n",
       "    </tr>\n",
       "    <tr>\n",
       "      <th>7.1.2</th>\n",
       "      <td>0.932115</td>\n",
       "    </tr>\n",
       "    <tr>\n",
       "      <th>5.0.2</th>\n",
       "      <td>0.809619</td>\n",
       "    </tr>\n",
       "  </tbody>\n",
       "</table>\n",
       "</div>"
      ],
      "text/plain": [
       "            ecpm_sma\n",
       "os_version          \n",
       "12          3.596887\n",
       "11          3.230599\n",
       "7.0         3.071182\n",
       "10          2.489296\n",
       "9           2.226091\n",
       "8.0.0       1.707117\n",
       "7.1.1       1.403852\n",
       "8.1.0       1.110026\n",
       "6.0.1       1.107547\n",
       "7.1.2       0.932115\n",
       "5.0.2       0.809619"
      ]
     },
     "execution_count": 107,
     "metadata": {},
     "output_type": "execute_result"
    }
   ],
   "source": [
    "os_ecpm = data.groupby('os_version').agg({'ecpm_sma':'mean'}).sort_values(by='ecpm_sma', ascending=False)\n",
    "os_ecpm"
   ]
  },
  {
   "cell_type": "markdown",
   "id": "81210600-d4a8-4987-8edc-c9abcc5edcb7",
   "metadata": {},
   "source": [
    "Построим распределение, убрав при этом выбросы.\n",
    "\n",
    "В случае с boxplot значения, выходящие за \"усы\", можно назвать выбросами, так как они соответствуют отклонениям более чем на 1.5 межквартильного размаха."
   ]
  },
  {
   "cell_type": "code",
   "execution_count": 108,
   "id": "35015bdf-b87f-467d-8732-4f3600cf22e4",
   "metadata": {},
   "outputs": [
    {
     "data": {
      "text/plain": [
       "<AxesSubplot:xlabel='os_version', ylabel='ecpm_sma'>"
      ]
     },
     "execution_count": 108,
     "metadata": {},
     "output_type": "execute_result"
    },
    {
     "data": {
      "image/png": "[encoded data removed]",
      "text/plain": [
       "<Figure size 864x576 with 1 Axes>"
      ]
     },
     "metadata": {
      "needs_background": "light"
     },
     "output_type": "display_data"
    }
   ],
   "source": [
    "fig, ax = plt.subplots(figsize=(12, 8))\n",
    "sns.boxplot(data=data, y='ecpm_sma', x='os_version', showfliers=False, showmeans=True, order=os_ecpm.index)"
   ]
  },
  {
   "cell_type": "markdown",
   "id": "b85293b2-eb30-48aa-b870-2522e5142c83",
   "metadata": {},
   "source": [
    "Можно сделать следующие выводы:\n",
    "- Средние значения отклонены в сторону больших значений, что говорит о том, что много людей тратит на игры больше среднего и наше распределение смещено.\n",
    "- Среднее значение eCPM падает для старых ОС. Но из этой зависимости выбивается Android 7.0. Может быть на это ОС все еще работает много старых девайсов, например, планшеты, которыми пользуются дети. Для того чтобы это проверить, необходимо дополнительно исследовать данные.\n",
    "- В целом зависимость падения eCPM от ОС просто может быть связана с тем, что число пользователей в датасете выше для новых ОС."
   ]
  },
  {
   "cell_type": "markdown",
   "id": "d461472f-b936-4beb-a1eb-9c74e05e5dab",
   "metadata": {},
   "source": [
    "#### Распределение по городам"
   ]
  },
  {
   "cell_type": "markdown",
   "id": "323d8521-3fe4-4bcc-aef5-b76e527f5292",
   "metadata": {},
   "source": [
    "Посчитаем количество уникальных городов."
   ]
  },
  {
   "cell_type": "code",
   "execution_count": 67,
   "id": "4a686baa-b9d9-4ece-abf6-3a28602606f1",
   "metadata": {},
   "outputs": [
    {
     "data": {
      "text/plain": [
       "921"
      ]
     },
     "execution_count": 67,
     "metadata": {},
     "output_type": "execute_result"
    }
   ],
   "source": [
    "data['city'].nunique()"
   ]
  },
  {
   "cell_type": "markdown",
   "id": "7aeafa35-c0ee-4851-a67e-7a2ae606d451",
   "metadata": {},
   "source": [
    "Городов очень много, поэтому просто построить зависимости для каждого города не получится.\n",
    "\n",
    "Посмотрим, как часто встречаются различные города, при этом не забыв убрать пользователей, которые город не указали."
   ]
  },
  {
   "cell_type": "code",
   "execution_count": 94,
   "id": "b4b88b25-015e-4888-9a09-3fe1c3a52904",
   "metadata": {},
   "outputs": [
    {
     "data": {
      "text/plain": [
       "New York        17584\n",
       "Minneapolis     12980\n",
       "Houston         10137\n",
       "Springfield     10135\n",
       "Charlotte        9750\n",
       "Chicago          8697\n",
       "San Antonio      7912\n",
       "Indianapolis     7126\n",
       "Kansas City      7038\n",
       "Gallatin         6573\n",
       "Name: city, dtype: int64"
      ]
     },
     "execution_count": 94,
     "metadata": {},
     "output_type": "execute_result"
    }
   ],
   "source": [
    "data.query('city != \"Unknown\"')['city'].value_counts()[:10]"
   ]
  },
  {
   "cell_type": "markdown",
   "id": "4edd85a2-77cc-466a-b13f-d56ffb874e5f",
   "metadata": {},
   "source": [
    "Попробуем исследовать 10 самых часто встречающихся городов."
   ]
  },
  {
   "cell_type": "code",
   "execution_count": 86,
   "id": "57094692-c1b3-4368-928f-298830ab836d",
   "metadata": {},
   "outputs": [],
   "source": [
    "top_10_cities = data.query('city != \"Unknown\"')['city'].value_counts()[:10].index"
   ]
  },
  {
   "cell_type": "code",
   "execution_count": 97,
   "id": "89e18cd2-40fd-4720-9e28-3cc5acfdf725",
   "metadata": {},
   "outputs": [
    {
     "data": {
      "text/html": [
       "<div>\n",
       "<style scoped>\n",
       "    .dataframe tbody tr th:only-of-type {\n",
       "        vertical-align: middle;\n",
       "    }\n",
       "\n",
       "    .dataframe tbody tr th {\n",
       "        vertical-align: top;\n",
       "    }\n",
       "\n",
       "    .dataframe thead th {\n",
       "        text-align: right;\n",
       "    }\n",
       "</style>\n",
       "<table border=\"1\" class=\"dataframe\">\n",
       "  <thead>\n",
       "    <tr style=\"text-align: right;\">\n",
       "      <th></th>\n",
       "      <th>ecpm_sma</th>\n",
       "    </tr>\n",
       "    <tr>\n",
       "      <th>city</th>\n",
       "      <th></th>\n",
       "    </tr>\n",
       "  </thead>\n",
       "  <tbody>\n",
       "    <tr>\n",
       "      <th>Indianapolis</th>\n",
       "      <td>5.936076</td>\n",
       "    </tr>\n",
       "    <tr>\n",
       "      <th>Houston</th>\n",
       "      <td>3.870005</td>\n",
       "    </tr>\n",
       "    <tr>\n",
       "      <th>New York</th>\n",
       "      <td>2.973308</td>\n",
       "    </tr>\n",
       "    <tr>\n",
       "      <th>Kansas City</th>\n",
       "      <td>2.913684</td>\n",
       "    </tr>\n",
       "    <tr>\n",
       "      <th>Minneapolis</th>\n",
       "      <td>2.891356</td>\n",
       "    </tr>\n",
       "    <tr>\n",
       "      <th>Charlotte</th>\n",
       "      <td>2.847540</td>\n",
       "    </tr>\n",
       "    <tr>\n",
       "      <th>Chicago</th>\n",
       "      <td>1.824192</td>\n",
       "    </tr>\n",
       "    <tr>\n",
       "      <th>San Antonio</th>\n",
       "      <td>1.748343</td>\n",
       "    </tr>\n",
       "    <tr>\n",
       "      <th>Springfield</th>\n",
       "      <td>1.337842</td>\n",
       "    </tr>\n",
       "    <tr>\n",
       "      <th>Gallatin</th>\n",
       "      <td>0.984699</td>\n",
       "    </tr>\n",
       "  </tbody>\n",
       "</table>\n",
       "</div>"
      ],
      "text/plain": [
       "              ecpm_sma\n",
       "city                  \n",
       "Indianapolis  5.936076\n",
       "Houston       3.870005\n",
       "New York      2.973308\n",
       "Kansas City   2.913684\n",
       "Minneapolis   2.891356\n",
       "Charlotte     2.847540\n",
       "Chicago       1.824192\n",
       "San Antonio   1.748343\n",
       "Springfield   1.337842\n",
       "Gallatin      0.984699"
      ]
     },
     "execution_count": 97,
     "metadata": {},
     "output_type": "execute_result"
    }
   ],
   "source": [
    "city_ecpm = data.query('city in @top_10_cities').groupby('city').agg({'ecpm_sma':'mean'}).sort_values(by='ecpm_sma', ascending=False)\n",
    "city_ecpm"
   ]
  },
  {
   "cell_type": "code",
   "execution_count": 98,
   "id": "36f21cfc-9c51-4461-abbc-17f7920e9fa5",
   "metadata": {},
   "outputs": [
    {
     "data": {
      "text/plain": [
       "<AxesSubplot:xlabel='city', ylabel='ecpm_sma'>"
      ]
     },
     "execution_count": 98,
     "metadata": {},
     "output_type": "execute_result"
    },
    {
     "data": {
      "image/png": "[encoded data removed]",
      "text/plain": [
       "<Figure size 864x576 with 1 Axes>"
      ]
     },
     "metadata": {
      "needs_background": "light"
     },
     "output_type": "display_data"
    }
   ],
   "source": [
    "fig, ax = plt.subplots(figsize=(12, 8))\n",
    "sns.boxplot(data=data.query('city in @top_5_cities'), y='ecpm_sma', x='city', showfliers=False, showmeans=True, order=city_ecpm.index)"
   ]
  },
  {
   "cell_type": "markdown",
   "id": "0cfdea9a-6891-403a-b384-7f4693a69a6f",
   "metadata": {},
   "source": [
    "Можно сделать выводы:\n",
    "\n",
    "- В датасете действительно есть зависимость eCPM по городам. Например, среднее значение eCPM в Indianapolis почти в два раза больше, чем в Нью-Йорке, несмотря на то, что в датасете данных по Нью-Йорку почти в три раза больше."
   ]
  },
  {
   "cell_type": "markdown",
   "id": "803e80f1-2cf3-40a9-bfba-83d3d934fbd4",
   "metadata": {},
   "source": [
    "**Общий вывод:**\n",
    "\n",
    "- В данных присутствует зависимость среднего eCPM от ОС: для более новых ОС она выше (кроме Android 7.0).\n",
    "- Также eCPM зависит от города."
   ]
  },
  {
   "cell_type": "markdown",
   "id": "7552e6e1-ded6-4d12-9c70-9624379e95d0",
   "metadata": {},
   "source": [
    "### Распределение доходов по городам и операционным системам"
   ]
  },
  {
   "cell_type": "markdown",
   "id": "4cbf1803-0ec0-41d3-8005-488619985327",
   "metadata": {},
   "source": [
    "Проведем такой же анализ, но уже непосредственно для значения доходов с рекламы на пользователя."
   ]
  },
  {
   "cell_type": "markdown",
   "id": "4582be34-39b5-46c3-8fa8-89dcad14e8be",
   "metadata": {},
   "source": [
    "#### Распределение по ОС"
   ]
  },
  {
   "cell_type": "code",
   "execution_count": 137,
   "id": "c382b04e-0a56-4aaf-bbb7-6b9e7b95bbf1",
   "metadata": {},
   "outputs": [],
   "source": [
    "os_revenue = data.groupby('os_version').agg({'revenue':'mean'}).sort_values(by='revenue', ascending=False)"
   ]
  },
  {
   "cell_type": "code",
   "execution_count": 139,
   "id": "9364f960-98af-4e88-9f1d-a538454b30df",
   "metadata": {},
   "outputs": [
    {
     "data": {
      "text/plain": [
       "<AxesSubplot:xlabel='os_version', ylabel='revenue'>"
      ]
     },
     "execution_count": 139,
     "metadata": {},
     "output_type": "execute_result"
    },
    {
     "data": {
      "image/png": "[encoded data removed]",
      "text/plain": [
       "<Figure size 864x576 with 1 Axes>"
      ]
     },
     "metadata": {
      "needs_background": "light"
     },
     "output_type": "display_data"
    }
   ],
   "source": [
    "fig, ax = plt.subplots(figsize=(12, 8))\n",
    "sns.boxplot(data=data, y='revenue', x='os_version', showfliers=False, showmeans=True, order=os_revenue.index)"
   ]
  },
  {
   "cell_type": "markdown",
   "id": "5610f472-eb80-4bf4-b10f-6d3fc880b1a3",
   "metadata": {},
   "source": [
    "Распределение похоже на распределение для eCPM, что не удивительно, ведь согласно заказчику, данные колонки связаны."
   ]
  },
  {
   "cell_type": "markdown",
   "id": "807e6aca-98ec-4373-bc45-4d51861b6fd9",
   "metadata": {},
   "source": [
    "#### Распределение по городам"
   ]
  },
  {
   "cell_type": "markdown",
   "id": "4cfbf258-945b-4afa-9378-ce760c91ee3d",
   "metadata": {},
   "source": [
    "Также исследуем только 10 самых популярных городов."
   ]
  },
  {
   "cell_type": "code",
   "execution_count": 143,
   "id": "17cfea58-1ab1-4fdd-be6a-1f7e8277738b",
   "metadata": {},
   "outputs": [
    {
     "data": {
      "text/html": [
       "<div>\n",
       "<style scoped>\n",
       "    .dataframe tbody tr th:only-of-type {\n",
       "        vertical-align: middle;\n",
       "    }\n",
       "\n",
       "    .dataframe tbody tr th {\n",
       "        vertical-align: top;\n",
       "    }\n",
       "\n",
       "    .dataframe thead th {\n",
       "        text-align: right;\n",
       "    }\n",
       "</style>\n",
       "<table border=\"1\" class=\"dataframe\">\n",
       "  <thead>\n",
       "    <tr style=\"text-align: right;\">\n",
       "      <th></th>\n",
       "      <th>revenue</th>\n",
       "    </tr>\n",
       "    <tr>\n",
       "      <th>city</th>\n",
       "      <th></th>\n",
       "    </tr>\n",
       "  </thead>\n",
       "  <tbody>\n",
       "    <tr>\n",
       "      <th>Indianapolis</th>\n",
       "      <td>0.005147</td>\n",
       "    </tr>\n",
       "    <tr>\n",
       "      <th>Houston</th>\n",
       "      <td>0.003408</td>\n",
       "    </tr>\n",
       "    <tr>\n",
       "      <th>New York</th>\n",
       "      <td>0.002699</td>\n",
       "    </tr>\n",
       "    <tr>\n",
       "      <th>Kansas City</th>\n",
       "      <td>0.002655</td>\n",
       "    </tr>\n",
       "    <tr>\n",
       "      <th>Minneapolis</th>\n",
       "      <td>0.002638</td>\n",
       "    </tr>\n",
       "    <tr>\n",
       "      <th>Charlotte</th>\n",
       "      <td>0.002628</td>\n",
       "    </tr>\n",
       "    <tr>\n",
       "      <th>Chicago</th>\n",
       "      <td>0.001620</td>\n",
       "    </tr>\n",
       "    <tr>\n",
       "      <th>San Antonio</th>\n",
       "      <td>0.001398</td>\n",
       "    </tr>\n",
       "    <tr>\n",
       "      <th>Springfield</th>\n",
       "      <td>0.001226</td>\n",
       "    </tr>\n",
       "    <tr>\n",
       "      <th>Gallatin</th>\n",
       "      <td>0.000952</td>\n",
       "    </tr>\n",
       "  </tbody>\n",
       "</table>\n",
       "</div>"
      ],
      "text/plain": [
       "               revenue\n",
       "city                  \n",
       "Indianapolis  0.005147\n",
       "Houston       0.003408\n",
       "New York      0.002699\n",
       "Kansas City   0.002655\n",
       "Minneapolis   0.002638\n",
       "Charlotte     0.002628\n",
       "Chicago       0.001620\n",
       "San Antonio   0.001398\n",
       "Springfield   0.001226\n",
       "Gallatin      0.000952"
      ]
     },
     "execution_count": 143,
     "metadata": {},
     "output_type": "execute_result"
    }
   ],
   "source": [
    "city_rev = data.query('city in @top_10_cities').groupby('city').agg({'revenue':'mean'}).sort_values(by='revenue', ascending=False)\n",
    "city_rev"
   ]
  },
  {
   "cell_type": "code",
   "execution_count": 144,
   "id": "eb360843-4816-4f0d-be79-8426c86cd75a",
   "metadata": {},
   "outputs": [
    {
     "data": {
      "text/plain": [
       "<AxesSubplot:xlabel='city', ylabel='revenue'>"
      ]
     },
     "execution_count": 144,
     "metadata": {},
     "output_type": "execute_result"
    },
    {
     "data": {
      "image/png": "[encoded data removed]",
      "text/plain": [
       "<Figure size 864x576 with 1 Axes>"
      ]
     },
     "metadata": {
      "needs_background": "light"
     },
     "output_type": "display_data"
    }
   ],
   "source": [
    "fig, ax = plt.subplots(figsize=(12, 8))\n",
    "sns.boxplot(data=data.query('city in @top_5_cities'), y='revenue', x='city', showfliers=False, showmeans=True, order=city_rev.index)"
   ]
  },
  {
   "cell_type": "markdown",
   "id": "2dced915-8e8a-4ba3-b6cb-fb232be29b27",
   "metadata": {},
   "source": [
    "Результаты также похожи на зависимость для eCPM."
   ]
  },
  {
   "cell_type": "markdown",
   "id": "0684f265-f733-4866-bea5-10acd9427f59",
   "metadata": {},
   "source": [
    "**Общий вывод:**\n",
    "\n",
    "- Зависимость распределения средних доходов от ОС и города похожа на такую же зависимость для среднего eCPM."
   ]
  },
  {
   "cell_type": "markdown",
   "id": "79b4c4f3-9cca-4f62-8e6f-953123e9b1dc",
   "metadata": {},
   "source": [
    "### Какой процент доходов содержит информацию о городе юзера"
   ]
  },
  {
   "cell_type": "markdown",
   "id": "b49b7299-c88d-4214-843f-1f2e482bc9b1",
   "metadata": {},
   "source": [
    "Посчитаем доходы отдельно для пользователей с указанным городом и без указанного города."
   ]
  },
  {
   "cell_type": "code",
   "execution_count": 151,
   "id": "0d35c1f7-dc26-45cb-be82-ee81141ee5be",
   "metadata": {},
   "outputs": [],
   "source": [
    "rev_known_city = data.query('city != \"Unknown\"')['revenue'].sum()\n",
    "rev_unknown_city = data.query('city == \"Unknown\"')['revenue'].sum()"
   ]
  },
  {
   "cell_type": "markdown",
   "id": "0845394d-882d-493c-bb1e-9b9ce8783157",
   "metadata": {},
   "source": [
    "Теперь посчитаем необходимую долю доходов."
   ]
  },
  {
   "cell_type": "code",
   "execution_count": 155,
   "id": "a1c4a939-1958-4ad0-af58-e7d9e7d30927",
   "metadata": {},
   "outputs": [
    {
     "data": {
      "text/plain": [
       "63.6"
      ]
     },
     "execution_count": 155,
     "metadata": {},
     "output_type": "execute_result"
    }
   ],
   "source": [
    "share = round(rev_known_city / (rev_known_city + rev_unknown_city) * 100, 1)\n",
    "share"
   ]
  },
  {
   "cell_type": "markdown",
   "id": "be3eb456-b094-453c-8973-227d5c09154e",
   "metadata": {},
   "source": [
    "**Вывод:**\n",
    "\n",
    "63.6% доходов от рекламы идут от пользователей с указанным городом."
   ]
  },
  {
   "cell_type": "markdown",
   "id": "527f7401-7b2a-4354-9c57-e4fdafe6a035",
   "metadata": {},
   "source": [
    "### Зависит ли eCPM от времени дня"
   ]
  },
  {
   "cell_type": "markdown",
   "id": "73d5f985-c3fc-4f1e-a31b-0c0f6fd9f3c5",
   "metadata": {},
   "source": [
    "Для того, чтобы определить данную зависимость, переведем столбец с датой в формат datetime, а затем создадим новый столбец, в которые извлечем время показа рекламы."
   ]
  },
  {
   "cell_type": "code",
   "execution_count": 164,
   "id": "209f811c-f6f2-4045-89f0-5c7dc8d6fb90",
   "metadata": {},
   "outputs": [],
   "source": [
    "data['event_datetime'] = pd.to_datetime(data['event_datetime'])\n",
    "data['event_hour'] = data['event_datetime'].dt.hour"
   ]
  },
  {
   "cell_type": "markdown",
   "id": "b6e184e4-e444-435d-91ae-e5f1df8da6dd",
   "metadata": {},
   "source": [
    "Теперь посчитаем средний eCPM для каждого часа."
   ]
  },
  {
   "cell_type": "code",
   "execution_count": 179,
   "id": "e538f22f-c1e1-4244-a3f3-cd73d19b86c3",
   "metadata": {},
   "outputs": [],
   "source": [
    "ecpm_hour = data.groupby('event_hour').agg({'ecpm_sma':'mean'}).reset_index()"
   ]
  },
  {
   "cell_type": "markdown",
   "id": "d31064fb-3df1-4afd-a942-9280a1741800",
   "metadata": {},
   "source": [
    "Построим график."
   ]
  },
  {
   "cell_type": "code",
   "execution_count": 180,
   "id": "5ccc637c-05d6-4764-85a8-36dd2eca6b0d",
   "metadata": {},
   "outputs": [
    {
     "data": {
      "text/plain": [
       "<AxesSubplot:xlabel='event_hour', ylabel='ecpm_sma'>"
      ]
     },
     "execution_count": 180,
     "metadata": {},
     "output_type": "execute_result"
    },
    {
     "data": {
      "image/png": "[encoded data removed]",
      "text/plain": [
       "<Figure size 720x576 with 1 Axes>"
      ]
     },
     "metadata": {
      "needs_background": "light"
     },
     "output_type": "display_data"
    }
   ],
   "source": [
    "fig, ax = plt.subplots(figsize=(10, 8))\n",
    "sns.barplot(data=ecpm_hour, x='event_hour', y='ecpm_sma', ax=ax)"
   ]
  },
  {
   "cell_type": "markdown",
   "id": "b9a546b8-b2ae-4b53-aa55-1b2ea2448054",
   "metadata": {},
   "source": [
    "Видно, что средний eCPM не сильно зависит от времени дня. Есть небольшие пики на 9 утра и 5 вечера.\n",
    "\n",
    "Посчитаем не среднее, а суммарный eCPM от времени дня."
   ]
  },
  {
   "cell_type": "code",
   "execution_count": 184,
   "id": "28dfa4c5-a663-40b7-87f1-87bc9194a358",
   "metadata": {},
   "outputs": [
    {
     "data": {
      "text/plain": [
       "<AxesSubplot:xlabel='event_hour', ylabel='ecpm_sma'>"
      ]
     },
     "execution_count": 184,
     "metadata": {},
     "output_type": "execute_result"
    },
    {
     "data": {
      "image/png": "[encoded data removed]",
      "text/plain": [
       "<Figure size 720x576 with 1 Axes>"
      ]
     },
     "metadata": {
      "needs_background": "light"
     },
     "output_type": "display_data"
    }
   ],
   "source": [
    "sum_ecpm_hour = data.groupby('event_hour').agg({'ecpm_sma':'sum'}).reset_index()\n",
    "fig, ax = plt.subplots(figsize=(10, 8))\n",
    "sns.barplot(data=sum_ecpm_hour, x='event_hour', y='ecpm_sma', ax=ax)"
   ]
  },
  {
   "cell_type": "markdown",
   "id": "3f1fb0a7-aad6-491d-99a2-521637f995e9",
   "metadata": {},
   "source": [
    "На графике видно, что суммарный eCPM зависит от времени дня:\n",
    "- Максимум суммарного eCPM приходится на 5 утра.\n",
    "- Далее наблюдается сильное падение в \"рабочее время\" с 10 до 16 дня.\n",
    "- Затем суммарный eCPM снова растет.\n",
    "\n",
    "Такая зависимость может быть связана просто с большей активностью людей в данное время.\n",
    "Построим такой же график, но не для суммы, а просто для количества информации в датасете по eCPM в разное время."
   ]
  },
  {
   "cell_type": "code",
   "execution_count": 185,
   "id": "7a0cacaf-9875-4aaf-aa1b-30f7b52dbaa8",
   "metadata": {},
   "outputs": [
    {
     "data": {
      "text/plain": [
       "<AxesSubplot:xlabel='event_hour', ylabel='ecpm_sma'>"
      ]
     },
     "execution_count": 185,
     "metadata": {},
     "output_type": "execute_result"
    },
    {
     "data": {
      "image/png": "[encoded data removed]",
      "text/plain": [
       "<Figure size 720x576 with 1 Axes>"
      ]
     },
     "metadata": {
      "needs_background": "light"
     },
     "output_type": "display_data"
    }
   ],
   "source": [
    "count_ecpm_hour = data.groupby('event_hour').agg({'ecpm_sma':'count'}).reset_index()\n",
    "fig, ax = plt.subplots(figsize=(10, 8))\n",
    "sns.barplot(data=count_ecpm_hour, x='event_hour', y='ecpm_sma', ax=ax)"
   ]
  },
  {
   "cell_type": "markdown",
   "id": "7bbe10ec-4bc1-49a9-9aa2-f9d4f2de3e1c",
   "metadata": {},
   "source": [
    "Зависимость такая же, что подтверждает сделанный вывод, что в рабочее время показы рекламы сокращаются."
   ]
  },
  {
   "cell_type": "markdown",
   "id": "2ea1b3b3-3ccb-49a7-88b3-e18a81d00e50",
   "metadata": {},
   "source": [
    "**Вывод:**\n",
    "\n",
    "- Среднее значение eCPM не сильно зависит от времени дня, то есть нет разницы, когда показывать рекламу.\n",
    "- При этом суммарное значение eCPM зависит от времени дня, что определяется просто большим просмотром рекламы в разное время."
   ]
  },
  {
   "cell_type": "markdown",
   "id": "cae5b73d-1d67-495d-8a34-900701366742",
   "metadata": {},
   "source": [
    "## Общий вывод"
   ]
  },
  {
   "cell_type": "markdown",
   "id": "7b9e69b3-24e2-477b-b1d4-f0b51023a960",
   "metadata": {},
   "source": [
    "В данной работе было проведено исследование показов рекламы с целью понять на сколько отличается eCPM в зависимости от географии (города) юзера, версии ОС и других параметров. Было выявлено:\n",
    "\n",
    "- Среднее значения eCPM с пользователя составляет \\\\$16.3. При этом медианное значение дохода с юзеров - \\\\$4.4.\n",
    "- В данных присутствует зависимость среднего eCPM от ОС: для более новых ОС она выше (кроме Android 7.0). Также eCPM зависит от города.\n",
    "- Зависимость распределения средних доходов от ОС и города похожа на такую же зависимость для среднего eCPM.\n",
    "- 63.6% доходов от рекламы идут от пользователей с указанным городом.\n",
    "- Среднее значение eCPM не сильно зависит от времени дня, то есть нет разницы, когда показывать рекламу. При этом суммарное значение eCPM зависит от времени дня, что определяется просто большим просмотром рекламы в разное время."
   ]
  },
  {
   "cell_type": "markdown",
   "id": "b0bf55d2-d9eb-48b6-b389-8349d281006e",
   "metadata": {},
   "source": [
    "## Дальнейшие шаги"
   ]
  },
  {
   "cell_type": "markdown",
   "id": "b1cdf3e6-776a-4805-b593-84824860bad3",
   "metadata": {},
   "source": [
    "Для того, чтобы провести дополнительное исследование представленных данных, необходимы уточнения от заказчика.\n",
    "\n",
    "Например, не совсем ясно, от чего именно зависит доход мобильной игры:\n",
    "- Если от только от количества показов, то eCPM в данном случае не должны различаться между собой.\n",
    "- Если же присутствует более сложная схема доходов, например, заказчик рекламы затем рассчитывает, какое количество пользователей воспользовалось его предложением именно после перехода из этой игры, то необходимо исследование зависимости eCPM, например, от конкретной рекламы."
   ]
  },
  {
   "cell_type": "code",
   "execution_count": null,
   "id": "d314c2fb-5c07-4d1c-8f04-73ae79dbc959",
   "metadata": {},
   "outputs": [],
   "source": []
  }
 ],
 "metadata": {
  "kernelspec": {
   "display_name": "Python 3 (ipykernel)",
   "language": "python",
   "name": "python3"
  },
  "language_info": {
   "codemirror_mode": {
    "name": "ipython",
    "version": 3
   },
   "file_extension": ".py",
   "mimetype": "text/x-python",
   "name": "python",
   "nbconvert_exporter": "python",
   "pygments_lexer": "ipython3",
   "version": "3.10.4"
  },
  "toc-autonumbering": true
 },
 "nbformat": 4,
 "nbformat_minor": 5
}
